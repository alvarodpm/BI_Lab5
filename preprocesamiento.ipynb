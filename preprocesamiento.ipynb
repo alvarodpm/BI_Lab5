{
 "cells": [
  {
   "cell_type": "markdown",
   "metadata": {},
   "source": [
    "# Laboratorio 5"
   ]
  },
  {
   "cell_type": "markdown",
   "metadata": {},
   "source": [
    "WWI (World Wide Importers) 1 es una empresa encargada de realizar importaciones y venderlas a diferentes clientes en diferentes ciudades de Estados Unidos. Actualmente, la empresa se encuentra buscando servicios de consultoría de BI puesto que desean optimizar sus ganancias, pues consideran que algunos de sus productos no están generando las ganancias que deberían. También, están interesados en saber si hay otros factores que le impiden optimizar sus ganancias. Dado lo anterior, WWI lo contrata a usted para que realice una consultoría de BI, en particular en esta fase, para la creación de la base de datos, la carga de datos y unas consultas iniciales que permitan validar el proceso previo. En esta ocasión quiere que el trabajo lo realicen en grupos de máximo 3 estudiantes, con el fin de comparar dos herramientas que está evaluando para utilizar a futuro en procesos de ETL.\n",
    "Para esta etapa de la consultoría, la empresa requiere que usted implemente un proceso ETL que le permita extraer los datos de órdenes desde unos archivos CSV y almacenarlos en un modelo dimensional tal que les permita realizar análisis para mejorar entre otros elementos, su eficiencia operativa."
   ]
  },
  {
   "cell_type": "markdown",
   "metadata": {},
   "source": [
    "## Análisis exploratorio de los datos"
   ]
  },
  {
   "cell_type": "code",
   "execution_count": 1,
   "metadata": {},
   "outputs": [
    {
     "name": "stdout",
     "output_type": "stream",
     "text": [
      "Requirement already satisfied: pandas_profiling in c:\\users\\alvaro\\anaconda3\\lib\\site-packages (2.7.1)\n",
      "Requirement already satisfied: visions[type_image_path]==0.4.1 in c:\\users\\alvaro\\anaconda3\\lib\\site-packages (from pandas_profiling) (0.4.1)\n",
      "Requirement already satisfied: tqdm>=4.43.0 in c:\\users\\alvaro\\anaconda3\\lib\\site-packages (from pandas_profiling) (4.46.0)\n",
      "Requirement already satisfied: htmlmin>=0.1.12 in c:\\users\\alvaro\\anaconda3\\lib\\site-packages (from pandas_profiling) (0.1.12)\n",
      "Requirement already satisfied: jinja2>=2.11.1 in c:\\users\\alvaro\\anaconda3\\lib\\site-packages (from pandas_profiling) (2.11.3)\n",
      "Requirement already satisfied: pandas!=1.0.0,!=1.0.1,!=1.0.2,>=0.25.3 in c:\\users\\alvaro\\anaconda3\\lib\\site-packages (from pandas_profiling) (1.2.0)\n",
      "Requirement already satisfied: tangled-up-in-unicode>=0.0.4 in c:\\users\\alvaro\\anaconda3\\lib\\site-packages (from pandas_profiling) (0.1.0)\n",
      "Requirement already satisfied: requests>=2.23.0 in c:\\users\\alvaro\\anaconda3\\lib\\site-packages (from pandas_profiling) (2.26.0)\n",
      "Requirement already satisfied: phik>=0.9.10 in c:\\users\\alvaro\\anaconda3\\lib\\site-packages (from pandas_profiling) (0.12.0)\n",
      "Requirement already satisfied: ipywidgets>=7.5.1 in c:\\users\\alvaro\\anaconda3\\lib\\site-packages (from pandas_profiling) (7.6.5)\n",
      "Requirement already satisfied: matplotlib>=3.2.0 in c:\\users\\alvaro\\anaconda3\\lib\\site-packages (from pandas_profiling) (3.4.3)\n",
      "Requirement already satisfied: scipy>=1.4.1 in c:\\users\\alvaro\\anaconda3\\lib\\site-packages (from pandas_profiling) (1.7.1)\n",
      "Requirement already satisfied: missingno>=0.4.2 in c:\\users\\alvaro\\anaconda3\\lib\\site-packages (from pandas_profiling) (0.5.0)\n",
      "Requirement already satisfied: joblib in c:\\users\\alvaro\\anaconda3\\lib\\site-packages (from pandas_profiling) (1.0.1)\n",
      "Requirement already satisfied: numpy>=1.16.0 in c:\\users\\alvaro\\anaconda3\\lib\\site-packages (from pandas_profiling) (1.20.3)\n",
      "Requirement already satisfied: confuse>=1.0.0 in c:\\users\\alvaro\\anaconda3\\lib\\site-packages (from pandas_profiling) (1.7.0)\n",
      "Requirement already satisfied: astropy>=4.0 in c:\\users\\alvaro\\anaconda3\\lib\\site-packages (from pandas_profiling) (4.3.1)\n",
      "Requirement already satisfied: networkx>=2.4 in c:\\users\\alvaro\\anaconda3\\lib\\site-packages (from visions[type_image_path]==0.4.1->pandas_profiling) (2.6.3)\n",
      "Requirement already satisfied: attrs>=19.3.0 in c:\\users\\alvaro\\anaconda3\\lib\\site-packages (from visions[type_image_path]==0.4.1->pandas_profiling) (21.2.0)\n",
      "Requirement already satisfied: imagehash in c:\\users\\alvaro\\anaconda3\\lib\\site-packages (from visions[type_image_path]==0.4.1->pandas_profiling) (4.2.1)\n",
      "Requirement already satisfied: Pillow in c:\\users\\alvaro\\anaconda3\\lib\\site-packages (from visions[type_image_path]==0.4.1->pandas_profiling) (8.4.0)\n",
      "Requirement already satisfied: pyerfa>=1.7.3 in c:\\users\\alvaro\\anaconda3\\lib\\site-packages (from astropy>=4.0->pandas_profiling) (2.0.0)\n",
      "Requirement already satisfied: pyyaml in c:\\users\\alvaro\\anaconda3\\lib\\site-packages (from confuse>=1.0.0->pandas_profiling) (6.0)\n",
      "Requirement already satisfied: jupyterlab-widgets>=1.0.0 in c:\\users\\alvaro\\anaconda3\\lib\\site-packages (from ipywidgets>=7.5.1->pandas_profiling) (1.0.0)\n",
      "Requirement already satisfied: ipython-genutils~=0.2.0 in c:\\users\\alvaro\\anaconda3\\lib\\site-packages (from ipywidgets>=7.5.1->pandas_profiling) (0.2.0)\n",
      "Requirement already satisfied: ipython>=4.0.0 in c:\\users\\alvaro\\anaconda3\\lib\\site-packages (from ipywidgets>=7.5.1->pandas_profiling) (7.29.0)\n",
      "Requirement already satisfied: traitlets>=4.3.1 in c:\\users\\alvaro\\anaconda3\\lib\\site-packages (from ipywidgets>=7.5.1->pandas_profiling) (5.1.0)\n",
      "Requirement already satisfied: widgetsnbextension~=3.5.0 in c:\\users\\alvaro\\anaconda3\\lib\\site-packages (from ipywidgets>=7.5.1->pandas_profiling) (3.5.1)\n",
      "Requirement already satisfied: nbformat>=4.2.0 in c:\\users\\alvaro\\anaconda3\\lib\\site-packages (from ipywidgets>=7.5.1->pandas_profiling) (5.1.3)\n",
      "Requirement already satisfied: ipykernel>=4.5.1 in c:\\users\\alvaro\\anaconda3\\lib\\site-packages (from ipywidgets>=7.5.1->pandas_profiling) (6.4.1)\n",
      "Requirement already satisfied: jupyter-client<8.0 in c:\\users\\alvaro\\anaconda3\\lib\\site-packages (from ipykernel>=4.5.1->ipywidgets>=7.5.1->pandas_profiling) (6.1.12)\n",
      "Requirement already satisfied: matplotlib-inline<0.2.0,>=0.1.0 in c:\\users\\alvaro\\anaconda3\\lib\\site-packages (from ipykernel>=4.5.1->ipywidgets>=7.5.1->pandas_profiling) (0.1.2)\n",
      "Requirement already satisfied: debugpy<2.0,>=1.0.0 in c:\\users\\alvaro\\anaconda3\\lib\\site-packages (from ipykernel>=4.5.1->ipywidgets>=7.5.1->pandas_profiling) (1.4.1)\n",
      "Requirement already satisfied: tornado<7.0,>=4.2 in c:\\users\\alvaro\\anaconda3\\lib\\site-packages (from ipykernel>=4.5.1->ipywidgets>=7.5.1->pandas_profiling) (6.1)\n",
      "Requirement already satisfied: decorator in c:\\users\\alvaro\\anaconda3\\lib\\site-packages (from ipython>=4.0.0->ipywidgets>=7.5.1->pandas_profiling) (5.1.0)\n",
      "Requirement already satisfied: setuptools>=18.5 in c:\\users\\alvaro\\anaconda3\\lib\\site-packages (from ipython>=4.0.0->ipywidgets>=7.5.1->pandas_profiling) (58.0.4)\n",
      "Requirement already satisfied: pickleshare in c:\\users\\alvaro\\anaconda3\\lib\\site-packages (from ipython>=4.0.0->ipywidgets>=7.5.1->pandas_profiling) (0.7.5)\n",
      "Requirement already satisfied: pygments in c:\\users\\alvaro\\anaconda3\\lib\\site-packages (from ipython>=4.0.0->ipywidgets>=7.5.1->pandas_profiling) (2.10.0)\n",
      "Requirement already satisfied: prompt-toolkit!=3.0.0,!=3.0.1,<3.1.0,>=2.0.0 in c:\\users\\alvaro\\anaconda3\\lib\\site-packages (from ipython>=4.0.0->ipywidgets>=7.5.1->pandas_profiling) (3.0.20)\n",
      "Requirement already satisfied: colorama in c:\\users\\alvaro\\anaconda3\\lib\\site-packages (from ipython>=4.0.0->ipywidgets>=7.5.1->pandas_profiling) (0.4.4)\n",
      "Requirement already satisfied: jedi>=0.16 in c:\\users\\alvaro\\anaconda3\\lib\\site-packages (from ipython>=4.0.0->ipywidgets>=7.5.1->pandas_profiling) (0.18.0)\n",
      "Requirement already satisfied: backcall in c:\\users\\alvaro\\anaconda3\\lib\\site-packages (from ipython>=4.0.0->ipywidgets>=7.5.1->pandas_profiling) (0.2.0)\n",
      "Requirement already satisfied: parso<0.9.0,>=0.8.0 in c:\\users\\alvaro\\anaconda3\\lib\\site-packages (from jedi>=0.16->ipython>=4.0.0->ipywidgets>=7.5.1->pandas_profiling) (0.8.2)\n",
      "Requirement already satisfied: MarkupSafe>=0.23 in c:\\users\\alvaro\\anaconda3\\lib\\site-packages (from jinja2>=2.11.1->pandas_profiling) (2.0.1)\n",
      "Requirement already satisfied: jupyter-core>=4.6.0 in c:\\users\\alvaro\\anaconda3\\lib\\site-packages (from jupyter-client<8.0->ipykernel>=4.5.1->ipywidgets>=7.5.1->pandas_profiling) (4.8.1)\n",
      "Requirement already satisfied: python-dateutil>=2.1 in c:\\users\\alvaro\\anaconda3\\lib\\site-packages (from jupyter-client<8.0->ipykernel>=4.5.1->ipywidgets>=7.5.1->pandas_profiling) (2.8.2)\n",
      "Requirement already satisfied: pyzmq>=13 in c:\\users\\alvaro\\anaconda3\\lib\\site-packages (from jupyter-client<8.0->ipykernel>=4.5.1->ipywidgets>=7.5.1->pandas_profiling) (22.2.1)\n",
      "Requirement already satisfied: pywin32>=1.0 in c:\\users\\alvaro\\anaconda3\\lib\\site-packages (from jupyter-core>=4.6.0->jupyter-client<8.0->ipykernel>=4.5.1->ipywidgets>=7.5.1->pandas_profiling) (228)\n",
      "Requirement already satisfied: cycler>=0.10 in c:\\users\\alvaro\\anaconda3\\lib\\site-packages (from matplotlib>=3.2.0->pandas_profiling) (0.10.0)\n",
      "Requirement already satisfied: kiwisolver>=1.0.1 in c:\\users\\alvaro\\anaconda3\\lib\\site-packages (from matplotlib>=3.2.0->pandas_profiling) (1.3.1)\n",
      "Requirement already satisfied: pyparsing>=2.2.1 in c:\\users\\alvaro\\anaconda3\\lib\\site-packages (from matplotlib>=3.2.0->pandas_profiling) (3.0.4)\n",
      "Requirement already satisfied: six in c:\\users\\alvaro\\anaconda3\\lib\\site-packages (from cycler>=0.10->matplotlib>=3.2.0->pandas_profiling) (1.16.0)\n",
      "Requirement already satisfied: seaborn in c:\\users\\alvaro\\anaconda3\\lib\\site-packages (from missingno>=0.4.2->pandas_profiling) (0.11.2)\n",
      "Requirement already satisfied: jsonschema!=2.5.0,>=2.4 in c:\\users\\alvaro\\anaconda3\\lib\\site-packages (from nbformat>=4.2.0->ipywidgets>=7.5.1->pandas_profiling) (3.2.0)\n",
      "Requirement already satisfied: pyrsistent>=0.14.0 in c:\\users\\alvaro\\anaconda3\\lib\\site-packages (from jsonschema!=2.5.0,>=2.4->nbformat>=4.2.0->ipywidgets>=7.5.1->pandas_profiling) (0.18.0)\n",
      "Requirement already satisfied: pytz>=2017.3 in c:\\users\\alvaro\\anaconda3\\lib\\site-packages (from pandas!=1.0.0,!=1.0.1,!=1.0.2,>=0.25.3->pandas_profiling) (2021.3)\n",
      "Requirement already satisfied: wcwidth in c:\\users\\alvaro\\anaconda3\\lib\\site-packages (from prompt-toolkit!=3.0.0,!=3.0.1,<3.1.0,>=2.0.0->ipython>=4.0.0->ipywidgets>=7.5.1->pandas_profiling) (0.2.5)\n",
      "Requirement already satisfied: certifi>=2017.4.17 in c:\\users\\alvaro\\anaconda3\\lib\\site-packages (from requests>=2.23.0->pandas_profiling) (2021.10.8)\n",
      "Requirement already satisfied: charset-normalizer~=2.0.0 in c:\\users\\alvaro\\anaconda3\\lib\\site-packages (from requests>=2.23.0->pandas_profiling) (2.0.4)\n",
      "Requirement already satisfied: idna<4,>=2.5 in c:\\users\\alvaro\\anaconda3\\lib\\site-packages (from requests>=2.23.0->pandas_profiling) (3.2)\n",
      "Requirement already satisfied: urllib3<1.27,>=1.21.1 in c:\\users\\alvaro\\anaconda3\\lib\\site-packages (from requests>=2.23.0->pandas_profiling) (1.26.7)\n",
      "Requirement already satisfied: notebook>=4.4.1 in c:\\users\\alvaro\\anaconda3\\lib\\site-packages (from widgetsnbextension~=3.5.0->ipywidgets>=7.5.1->pandas_profiling) (6.4.5)\n",
      "Requirement already satisfied: Send2Trash>=1.5.0 in c:\\users\\alvaro\\anaconda3\\lib\\site-packages (from notebook>=4.4.1->widgetsnbextension~=3.5.0->ipywidgets>=7.5.1->pandas_profiling) (1.8.0)\n",
      "Requirement already satisfied: argon2-cffi in c:\\users\\alvaro\\anaconda3\\lib\\site-packages (from notebook>=4.4.1->widgetsnbextension~=3.5.0->ipywidgets>=7.5.1->pandas_profiling) (20.1.0)\n",
      "Requirement already satisfied: prometheus-client in c:\\users\\alvaro\\anaconda3\\lib\\site-packages (from notebook>=4.4.1->widgetsnbextension~=3.5.0->ipywidgets>=7.5.1->pandas_profiling) (0.11.0)\n",
      "Requirement already satisfied: terminado>=0.8.3 in c:\\users\\alvaro\\anaconda3\\lib\\site-packages (from notebook>=4.4.1->widgetsnbextension~=3.5.0->ipywidgets>=7.5.1->pandas_profiling) (0.9.4)\n",
      "Requirement already satisfied: nbconvert in c:\\users\\alvaro\\anaconda3\\lib\\site-packages (from notebook>=4.4.1->widgetsnbextension~=3.5.0->ipywidgets>=7.5.1->pandas_profiling) (6.1.0)\n",
      "Requirement already satisfied: pywinpty>=0.5 in c:\\users\\alvaro\\anaconda3\\lib\\site-packages (from terminado>=0.8.3->notebook>=4.4.1->widgetsnbextension~=3.5.0->ipywidgets>=7.5.1->pandas_profiling) (0.5.7)\n",
      "Requirement already satisfied: cffi>=1.0.0 in c:\\users\\alvaro\\anaconda3\\lib\\site-packages (from argon2-cffi->notebook>=4.4.1->widgetsnbextension~=3.5.0->ipywidgets>=7.5.1->pandas_profiling) (1.14.6)\n",
      "Requirement already satisfied: pycparser in c:\\users\\alvaro\\anaconda3\\lib\\site-packages (from cffi>=1.0.0->argon2-cffi->notebook>=4.4.1->widgetsnbextension~=3.5.0->ipywidgets>=7.5.1->pandas_profiling) (2.20)\n",
      "Requirement already satisfied: PyWavelets in c:\\users\\alvaro\\anaconda3\\lib\\site-packages (from imagehash->visions[type_image_path]==0.4.1->pandas_profiling) (1.1.1)\n",
      "Requirement already satisfied: defusedxml in c:\\users\\alvaro\\anaconda3\\lib\\site-packages (from nbconvert->notebook>=4.4.1->widgetsnbextension~=3.5.0->ipywidgets>=7.5.1->pandas_profiling) (0.7.1)\n",
      "Requirement already satisfied: pandocfilters>=1.4.1 in c:\\users\\alvaro\\anaconda3\\lib\\site-packages (from nbconvert->notebook>=4.4.1->widgetsnbextension~=3.5.0->ipywidgets>=7.5.1->pandas_profiling) (1.4.3)\n",
      "Requirement already satisfied: entrypoints>=0.2.2 in c:\\users\\alvaro\\anaconda3\\lib\\site-packages (from nbconvert->notebook>=4.4.1->widgetsnbextension~=3.5.0->ipywidgets>=7.5.1->pandas_profiling) (0.3)\n",
      "Requirement already satisfied: mistune<2,>=0.8.1 in c:\\users\\alvaro\\anaconda3\\lib\\site-packages (from nbconvert->notebook>=4.4.1->widgetsnbextension~=3.5.0->ipywidgets>=7.5.1->pandas_profiling) (0.8.4)\n",
      "Requirement already satisfied: bleach in c:\\users\\alvaro\\anaconda3\\lib\\site-packages (from nbconvert->notebook>=4.4.1->widgetsnbextension~=3.5.0->ipywidgets>=7.5.1->pandas_profiling) (4.0.0)\n",
      "Requirement already satisfied: jupyterlab-pygments in c:\\users\\alvaro\\anaconda3\\lib\\site-packages (from nbconvert->notebook>=4.4.1->widgetsnbextension~=3.5.0->ipywidgets>=7.5.1->pandas_profiling) (0.1.2)\n",
      "Requirement already satisfied: nbclient<0.6.0,>=0.5.0 in c:\\users\\alvaro\\anaconda3\\lib\\site-packages (from nbconvert->notebook>=4.4.1->widgetsnbextension~=3.5.0->ipywidgets>=7.5.1->pandas_profiling) (0.5.3)\n",
      "Requirement already satisfied: testpath in c:\\users\\alvaro\\anaconda3\\lib\\site-packages (from nbconvert->notebook>=4.4.1->widgetsnbextension~=3.5.0->ipywidgets>=7.5.1->pandas_profiling) (0.5.0)\n",
      "Requirement already satisfied: nest-asyncio in c:\\users\\alvaro\\anaconda3\\lib\\site-packages (from nbclient<0.6.0,>=0.5.0->nbconvert->notebook>=4.4.1->widgetsnbextension~=3.5.0->ipywidgets>=7.5.1->pandas_profiling) (1.5.1)\n",
      "Requirement already satisfied: async-generator in c:\\users\\alvaro\\anaconda3\\lib\\site-packages (from nbclient<0.6.0,>=0.5.0->nbconvert->notebook>=4.4.1->widgetsnbextension~=3.5.0->ipywidgets>=7.5.1->pandas_profiling) (1.10)\n",
      "Requirement already satisfied: packaging in c:\\users\\alvaro\\anaconda3\\lib\\site-packages (from bleach->nbconvert->notebook>=4.4.1->widgetsnbextension~=3.5.0->ipywidgets>=7.5.1->pandas_profiling) (21.0)\n",
      "Requirement already satisfied: webencodings in c:\\users\\alvaro\\anaconda3\\lib\\site-packages (from bleach->nbconvert->notebook>=4.4.1->widgetsnbextension~=3.5.0->ipywidgets>=7.5.1->pandas_profiling) (0.5.1)\n"
     ]
    },
    {
     "name": "stdout",
     "output_type": "stream",
     "text": [
      "Requirement already satisfied: pandas==1.2 in c:\\users\\alvaro\\anaconda3\\lib\\site-packages (1.2.0)\n",
      "Requirement already satisfied: python-dateutil>=2.7.3 in c:\\users\\alvaro\\anaconda3\\lib\\site-packages (from pandas==1.2) (2.8.2)\n",
      "Requirement already satisfied: pytz>=2017.3 in c:\\users\\alvaro\\anaconda3\\lib\\site-packages (from pandas==1.2) (2021.3)\n",
      "Requirement already satisfied: numpy>=1.16.5 in c:\\users\\alvaro\\anaconda3\\lib\\site-packages (from pandas==1.2) (1.20.3)\n",
      "Requirement already satisfied: six>=1.5 in c:\\users\\alvaro\\anaconda3\\lib\\site-packages (from python-dateutil>=2.7.3->pandas==1.2) (1.16.0)\n"
     ]
    }
   ],
   "source": [
    "#Instalamos las dependencias necesarias\n",
    "!pip3 install pandas_profiling\n",
    "!pip3 install pandas==1.2"
   ]
  },
  {
   "cell_type": "code",
   "execution_count": null,
   "metadata": {},
   "outputs": [],
   "source": [
    "!pip3 show pandas"
   ]
  },
  {
   "cell_type": "markdown",
   "metadata": {},
   "source": [
    "Se realizará el análisis exploratorio para cada uno de los datasets proveídos por WWI"
   ]
  },
  {
   "cell_type": "code",
   "execution_count": null,
   "metadata": {},
   "outputs": [],
   "source": [
    "# Se importan las librerías y dependencias necesarias para la ejecución del notebook\n",
    "import numpy as np\n",
    "import pandas as pd\n",
    "import matplotlib as plt\n",
    "from pandas_profiling import ProfileReport"
   ]
  },
  {
   "cell_type": "markdown",
   "metadata": {},
   "source": [
    "### Variable Dimension City"
   ]
  },
  {
   "cell_type": "code",
   "execution_count": null,
   "metadata": {},
   "outputs": [],
   "source": [
    "datos_dim_city = pd.read_csv('datos_originales/dimension_city.csv', delimiter=',')\n",
    "datos_dim_city.sample(5)"
   ]
  },
  {
   "cell_type": "markdown",
   "metadata": {},
   "source": [
    "Observamos las primeras filas del dataset"
   ]
  },
  {
   "cell_type": "code",
   "execution_count": null,
   "metadata": {},
   "outputs": [],
   "source": [
    "datos_dim_city.head()"
   ]
  },
  {
   "cell_type": "markdown",
   "metadata": {},
   "source": [
    "Vemos que la primera fila, con row ID Row0, no aporta información relevante pues todos sus datos están ausentes. Procedemos entonces a eliminarla."
   ]
  },
  {
   "cell_type": "code",
   "execution_count": null,
   "metadata": {},
   "outputs": [],
   "source": [
    "datos_dim_city = datos_dim_city.drop(0)\n",
    "#Verificamos que se eliminó correctamente\n",
    "datos_dim_city.head()"
   ]
  },
  {
   "cell_type": "markdown",
   "metadata": {},
   "source": [
    "Veamos, ahora, el número de filas y columnas que tenemos en nuestro conjunto de datos:"
   ]
  },
  {
   "cell_type": "code",
   "execution_count": null,
   "metadata": {},
   "outputs": [],
   "source": [
    "print(\"Número de filas o datos: {}\".format(len(datos_dim_city)))\n",
    "print(\"Número de columnas o variables: {}\".format(len(datos_dim_city.columns)))"
   ]
  },
  {
   "cell_type": "markdown",
   "metadata": {},
   "source": [
    "Vemos que tenemos 98 datos (filas) y 10 columnas (variables)."
   ]
  },
  {
   "cell_type": "markdown",
   "metadata": {},
   "source": [
    "Para ver una exploración más exhaustiva, hicimos un pandas profiling de los datos que nos fueron entregados:"
   ]
  },
  {
   "cell_type": "code",
   "execution_count": null,
   "metadata": {},
   "outputs": [],
   "source": [
    "profiling = ProfileReport(datos_dim_city)\n",
    "profiling.to_file(output_file=\"pandas_profiling/dimension_city_pandas_profiling.html\")\n",
    "profiling"
   ]
  },
  {
   "cell_type": "markdown",
   "metadata": {},
   "source": [
    "Del anterior reporte podemos concluir y considerar:"
   ]
  },
  {
   "cell_type": "markdown",
   "metadata": {},
   "source": [
    "- No encontamos filas duplicadas\n",
    "- Las variables row ID y City_Key tienen un valor distinto en cada fila. Se podría considerar eliminar una de las dos variables.\n",
    "- No encontramos celdas ausentes.\n",
    "- Las variables Country, Continent, Region y Subregion tienen el mismo valor en todas las celdas. Esto indica que no aportan información relevante y pueden ser eliminadas."
   ]
  },
  {
   "cell_type": "markdown",
   "metadata": {},
   "source": [
    "### Variable Dimension Customer"
   ]
  },
  {
   "cell_type": "code",
   "execution_count": null,
   "metadata": {},
   "outputs": [],
   "source": [
    "datos_dim_cust = pd.read_csv('datos_originales/dimension_customer.csv', delimiter=',', encoding='latin-1')\n",
    "datos_dim_cust.head()"
   ]
  },
  {
   "cell_type": "markdown",
   "metadata": {},
   "source": [
    "Vemos que la primera fila, con Customer_Key 0, no aporta información relevante pues todos sus datos están ausentes. Procedemos entonces a eliminarla."
   ]
  },
  {
   "cell_type": "code",
   "execution_count": null,
   "metadata": {},
   "outputs": [],
   "source": [
    "datos_dim_cust = datos_dim_cust.drop(0)\n",
    "#Verificamos que se eliminó correctamente\n",
    "datos_dim_cust.head()"
   ]
  },
  {
   "cell_type": "markdown",
   "metadata": {},
   "source": [
    "Veamos, ahora, el número de filas y columnas que tenemos en nuestro conjunto de datos:"
   ]
  },
  {
   "cell_type": "code",
   "execution_count": null,
   "metadata": {},
   "outputs": [],
   "source": [
    "print(\"Número de filas o datos: {}\".format(len(datos_dim_cust)))\n",
    "\n",
    "print(\"Número de columnas o variables: {}\".format(len(datos_dim_cust.columns)))"
   ]
  },
  {
   "cell_type": "markdown",
   "metadata": {},
   "source": [
    "Para ver una exploración más exhaustiva, hicimos un pandas profiling de los datos que nos fueron entregados:"
   ]
  },
  {
   "cell_type": "code",
   "execution_count": null,
   "metadata": {},
   "outputs": [],
   "source": [
    "profiling = ProfileReport(datos_dim_cust)\n",
    "profiling.to_file(output_file=\"pandas_profiling/dimension_customer_pandas_profiling.html\")\n",
    "profiling"
   ]
  },
  {
   "cell_type": "markdown",
   "metadata": {},
   "source": [
    "Del anterior reporte podemos concluir y considerar:\n",
    "- No encontamos filas duplicadas\n",
    "- No encontramos celdas ausentes.\n",
    "- La Variable Category tiene un único valor. Esto indica que no aporta información relevante y se puede eliminar.\n",
    "- Las variables Billl_To_Customer y Buying_Group aportan la misma información, por lo que podemos considerar eliminar una de las 2."
   ]
  },
  {
   "cell_type": "markdown",
   "metadata": {},
   "source": [
    "### Variable Dimension Date"
   ]
  },
  {
   "cell_type": "code",
   "execution_count": null,
   "metadata": {},
   "outputs": [],
   "source": [
    "datos_dim_date = pd.read_csv('datos_originales/dimension_date.csv', delimiter=',', encoding='latin-1')\n",
    "datos_dim_date.head()"
   ]
  },
  {
   "cell_type": "markdown",
   "metadata": {},
   "source": [
    "Veamos el número de filas y columnas que se encuentran en nuestro dataset"
   ]
  },
  {
   "cell_type": "code",
   "execution_count": null,
   "metadata": {},
   "outputs": [],
   "source": [
    "print(\"Número de filas o datos: {}\".format(len(datos_dim_date)))\n",
    "\n",
    "print(\"Número de columnas o variables: {}\".format(len(datos_dim_date.columns)))"
   ]
  },
  {
   "cell_type": "markdown",
   "metadata": {},
   "source": [
    "Para ver una exploración más exhaustiva, hicimos un pandas profiling de los datos que nos fueron entregados:"
   ]
  },
  {
   "cell_type": "code",
   "execution_count": null,
   "metadata": {},
   "outputs": [],
   "source": [
    "profiling = ProfileReport(datos_dim_date)\n",
    "profiling.to_file(output_file=\"pandas_profiling/dimension_date_pandas_profiling.html\")\n",
    "profiling"
   ]
  },
  {
   "cell_type": "markdown",
   "metadata": {},
   "source": [
    "Del anterior reporte podemos concluir y considerar:\n",
    "- No encontamos filas duplicadas\n",
    "- No encontramos celdas ausentes.\n",
    "- Las variables Day_Number y Day_val aportan la misma información, por lo que podemos considerar eliminar una de las 2.\n",
    "- Las variables Month_val y Short_Month aportan la misma información, por lo que podemos considerar eliminar una de las 2."
   ]
  },
  {
   "cell_type": "markdown",
   "metadata": {},
   "source": [
    "### Variable Dimension Employee"
   ]
  },
  {
   "cell_type": "code",
   "execution_count": null,
   "metadata": {},
   "outputs": [],
   "source": [
    "datos_dim_emp = pd.read_csv('datos_originales/dimension_employee.csv', delimiter=',', encoding='latin-1')\n",
    "datos_dim_emp.head()"
   ]
  },
  {
   "cell_type": "markdown",
   "metadata": {},
   "source": [
    "Vemos que la primera fila, con Employee_Key 0, no aporta información relevante pues todos sus datos están ausentes. Procedemos entonces a eliminarla."
   ]
  },
  {
   "cell_type": "code",
   "execution_count": null,
   "metadata": {},
   "outputs": [],
   "source": [
    "datos_dim_emp = datos_dim_emp.drop(0)\n",
    "#Verificamos que se eliminó correctamente\n",
    "datos_dim_emp.head()"
   ]
  },
  {
   "cell_type": "markdown",
   "metadata": {},
   "source": [
    "Observamos la cantidad de filas y columnas que se encuentran en nuestro dataset"
   ]
  },
  {
   "cell_type": "code",
   "execution_count": null,
   "metadata": {},
   "outputs": [],
   "source": [
    "print(\"Número de filas o datos: {}\".format(len(datos_dim_emp)))\n",
    "print(\"Número de columnas o variables: {}\".format(len(datos_dim_emp.columns)))"
   ]
  },
  {
   "cell_type": "markdown",
   "metadata": {},
   "source": [
    "Para hacer una exploración más exhasutiva, hicimos un pandas profiling de los datos"
   ]
  },
  {
   "cell_type": "code",
   "execution_count": null,
   "metadata": {},
   "outputs": [],
   "source": [
    "profiling = ProfileReport(datos_dim_emp)\n",
    "profiling.to_file(output_file=\"pandas_profiling/dimension_employee_pandas_profiling.html\")\n",
    "profiling"
   ]
  },
  {
   "cell_type": "markdown",
   "metadata": {},
   "source": [
    "Del anterior reporte podemos concluir y considerar:\n",
    "- No encontamos filas duplicadas\n",
    "- No encontramos celdas ausentes.\n",
    "- No se debe realizar ningún paso de preprocesamiento para esta variable"
   ]
  },
  {
   "cell_type": "markdown",
   "metadata": {},
   "source": [
    "### Variable Dimension Stock Item"
   ]
  },
  {
   "cell_type": "code",
   "execution_count": null,
   "metadata": {},
   "outputs": [],
   "source": [
    "datos_dim_stock = pd.read_csv('datos_originales/dimension_stock_item.csv', delimiter=',', encoding='latin-1')\n",
    "datos_dim_stock.head()"
   ]
  },
  {
   "cell_type": "markdown",
   "metadata": {},
   "source": [
    "Vemos que la primera fila, con Item_Key 0, no aporta información relevante pues todos sus datos están ausentes. Procedemos entonces a eliminarla."
   ]
  },
  {
   "cell_type": "code",
   "execution_count": null,
   "metadata": {},
   "outputs": [],
   "source": [
    "datos_dim_stock = datos_dim_stock.drop(0)\n",
    "#Verificamos que se eliminó correctamente\n",
    "datos_dim_stock.head()"
   ]
  },
  {
   "cell_type": "markdown",
   "metadata": {},
   "source": [
    "Observamos la cantidad de filas y columnas presentes en el dataset"
   ]
  },
  {
   "cell_type": "code",
   "execution_count": null,
   "metadata": {},
   "outputs": [],
   "source": [
    "print(\"Número de filas o datos: {}\".format(len(datos_dim_stock)))\n",
    "print(\"Número de columnas o variables: {}\".format(len(datos_dim_stock.columns)))"
   ]
  },
  {
   "cell_type": "markdown",
   "metadata": {},
   "source": [
    "Para hacer una exploración más exhaustiva, hicimos un pandas profiling de los datos"
   ]
  },
  {
   "cell_type": "code",
   "execution_count": null,
   "metadata": {},
   "outputs": [],
   "source": [
    "profiling = ProfileReport(datos_dim_stock)\n",
    "profiling.to_file(output_file=\"pandas_profiling/dimension_stock_item_pandas_profiling.html\")\n",
    "profiling"
   ]
  },
  {
   "cell_type": "markdown",
   "metadata": {},
   "source": [
    "Del anterior reporte podemos concluir y considerar:\n",
    "- No encontamos filas duplicadas\n",
    "- Encontramos 1118 celdas vacías que corresponden al 11.1% de los datos. Como el objetivo de este laboratorio no es crear un modelo de ML sino responder a preguntas del negocio sobre sus datos y operación, no podemos reemplazar estos valores vacíos por otros, por lo que los dejaremos como están.\n",
    "- Observamos que la variable Brand tiene un valor constante en las celdas que tienen un valor asignado, pero además presenta un 90% de ausencias, por lo que no aporta información relevante y podemos considerar eliminarla."
   ]
  },
  {
   "cell_type": "markdown",
   "metadata": {},
   "source": [
    "## Preprocesamiento de los datos"
   ]
  },
  {
   "cell_type": "markdown",
   "metadata": {},
   "source": [
    "### Variable Dimension City"
   ]
  },
  {
   "cell_type": "markdown",
   "metadata": {},
   "source": [
    "Como vimos en la exploración, las variables row ID y City_Key tienen un valor distinto en cada fila. Eliminamos entonces la variable row ID para dejar City_Key como identificador único. Igualmente eliminamos las variables Country, Continent, Region y Subregion "
   ]
  },
  {
   "cell_type": "code",
   "execution_count": null,
   "metadata": {},
   "outputs": [],
   "source": [
    "datos_dim_city = datos_dim_city.drop(['row ID', 'Country', \"Continent\", \"Region\", \"Subregion\"], axis=1)"
   ]
  },
  {
   "cell_type": "code",
   "execution_count": null,
   "metadata": {},
   "outputs": [],
   "source": [
    "datos_dim_city.head()"
   ]
  },
  {
   "cell_type": "markdown",
   "metadata": {},
   "source": [
    "### Variable Dimension Customer"
   ]
  },
  {
   "cell_type": "markdown",
   "metadata": {},
   "source": [
    "Como vimos en la exploración de la variable Category, ésta tiene un mismo valor en cada celda. Esto indica que no aporta información relevante y procedemos a eliminarla. Igualmente eliminamos la variable Bill_To_Customer para dejar la variable Buying_Group para aportar la misma información"
   ]
  },
  {
   "cell_type": "code",
   "execution_count": null,
   "metadata": {},
   "outputs": [],
   "source": [
    "datos_dim_cust = datos_dim_cust.drop(['Category', 'Bill_To_Customer'], axis=1)"
   ]
  },
  {
   "cell_type": "code",
   "execution_count": null,
   "metadata": {},
   "outputs": [],
   "source": [
    "datos_dim_cust.head()"
   ]
  },
  {
   "cell_type": "markdown",
   "metadata": {},
   "source": [
    "### Variable Dimension Date"
   ]
  },
  {
   "cell_type": "markdown",
   "metadata": {},
   "source": [
    "Como vimos en la exploración de las variables Day_Number y Day_val aportan la misma información, por lo que eliminamos Day_val. Lo mismo sucede con Month_val y Short_Month, por lo que eliminamos Short_Month"
   ]
  },
  {
   "cell_type": "code",
   "execution_count": null,
   "metadata": {},
   "outputs": [],
   "source": [
    "datos_dim_date = datos_dim_date.drop(['Day_val', 'Short_Month'], axis=1)"
   ]
  },
  {
   "cell_type": "code",
   "execution_count": null,
   "metadata": {},
   "outputs": [],
   "source": [
    "datos_dim_date.head()"
   ]
  },
  {
   "cell_type": "markdown",
   "metadata": {},
   "source": [
    "### Variable Dimension Stock Item"
   ]
  },
  {
   "cell_type": "markdown",
   "metadata": {},
   "source": [
    "Como vimos en el análisis de la variable Brand, ésta no aporta información relevante, por lo que podemos eliminarla."
   ]
  },
  {
   "cell_type": "code",
   "execution_count": null,
   "metadata": {},
   "outputs": [],
   "source": [
    "datos_dim_stock = datos_dim_stock.drop(['Brand'], axis=1)"
   ]
  },
  {
   "cell_type": "code",
   "execution_count": null,
   "metadata": {},
   "outputs": [],
   "source": [
    "datos_dim_stock.head()"
   ]
  }
 ],
 "metadata": {
  "instance_type": "ml.t3.medium",
  "kernelspec": {
   "display_name": "Python 3 (ipykernel)",
   "language": "python",
   "name": "python3"
  },
  "language_info": {
   "codemirror_mode": {
    "name": "ipython",
    "version": 3
   },
   "file_extension": ".py",
   "mimetype": "text/x-python",
   "name": "python",
   "nbconvert_exporter": "python",
   "pygments_lexer": "ipython3",
   "version": "3.9.7"
  }
 },
 "nbformat": 4,
 "nbformat_minor": 4
}
